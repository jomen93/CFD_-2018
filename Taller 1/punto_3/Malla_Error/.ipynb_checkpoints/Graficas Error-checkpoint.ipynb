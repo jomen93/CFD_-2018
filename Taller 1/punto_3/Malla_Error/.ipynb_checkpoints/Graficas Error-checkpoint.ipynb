{
 "cells": [
  {
   "cell_type": "code",
   "execution_count": 1,
   "metadata": {},
   "outputs": [],
   "source": [
    "import numpy as np \n",
    "import matplotlib.pyplot as plt\n",
    "import scipy as sp\n",
    "%matplotlib inline"
   ]
  },
  {
   "cell_type": "code",
   "execution_count": 69,
   "metadata": {},
   "outputs": [],
   "source": [
    "phiRK = []\n",
    "phiRKNU = []\n",
    "xRKNU = [] \n",
    "xRK = []\n",
    "for i in range(21,62):\n",
    "    phiRK.append(np.loadtxt('DCT_RK2_nodo'+str(i)+'.dat', unpack = True))\n",
    "    phiRKNU.append(np.loadtxt('DCT_RK2_NU_nodo'+str(i)+'.dat', unpack = True))\n",
    "    xRKNU.append(np.loadtxt('malla_RK2_nodo'+str(i)+'.dat', unpack = True))\n",
    "\n"
   ]
  },
  {
   "cell_type": "code",
   "execution_count": 51,
   "metadata": {},
   "outputs": [
    {
     "data": {
      "image/png": "[encoded data removed]",
      "text/plain": [
       "<matplotlib.figure.Figure at 0x117824390>"
      ]
     },
     "metadata": {},
     "output_type": "display_data"
    }
   ],
   "source": [
    "for i in range(41):\n",
    "    plt.plot(xRKNU[i],phiRKNU[i][:,5],\"r-\")"
   ]
  },
  {
   "cell_type": "code",
   "execution_count": 33,
   "metadata": {},
   "outputs": [
    {
     "data": {
      "text/plain": [
       "array([0.        , 0.11384034, 0.21629665, 0.30850733, 0.39149693,\n",
       "       0.46618757, 0.53340915, 0.59390857, 0.64835804, 0.69736257,\n",
       "       0.74146664, 0.7811603 , 0.8168846 , 0.84903646, 0.87797314,\n",
       "       0.90401615, 0.92745486, 0.9485497 , 0.96753505, 0.98462187,\n",
       "       1.        ])"
      ]
     },
     "execution_count": 33,
     "metadata": {},
     "output_type": "execute_result"
    }
   ],
   "source": [
    "xRKNU[0]"
   ]
  },
  {
   "cell_type": "code",
   "execution_count": 70,
   "metadata": {},
   "outputs": [],
   "source": [
    "l = 1.0; u=1.0;rho = 1.0; gamma = 0.025\n",
    "Pe = rho*u*l/gamma\n",
    "\n",
    "def phiT(x):\n",
    "\treturn (np.exp(x*Pe/l)-1.0)/(np.exp(Pe)-1.0)\n",
    "\n",
    "def Error(phiT,phiE):\n",
    "\tsuma = 0.0\n",
    "\targument = np.linspace(0,l,len(phiT))\n",
    "\tfor i in range(0,len(argument)):\n",
    "\t\tsuma += abs(phiT[i]-phiE[i])\n",
    "\treturn suma/len(argument)\n"
   ]
  },
  {
   "cell_type": "code",
   "execution_count": 74,
   "metadata": {},
   "outputs": [
    {
     "data": {
      "text/plain": [
       "0.02673872137260135"
      ]
     },
     "execution_count": 74,
     "metadata": {},
     "output_type": "execute_result"
    }
   ],
   "source": [
    "error = []\n",
    "for i in range(40):\n",
    "    Error(phiT(xRKNU[i]),phiRKNU[i][:,5])"
   ]
  },
  {
   "cell_type": "code",
   "execution_count": 57,
   "metadata": {},
   "outputs": [
    {
     "data": {
      "text/plain": [
       "21"
      ]
     },
     "execution_count": 57,
     "metadata": {},
     "output_type": "execute_result"
    }
   ],
   "source": [
    "len(phiT(xRKNU[0]))"
   ]
  },
  {
   "cell_type": "code",
   "execution_count": null,
   "metadata": {},
   "outputs": [],
   "source": []
  }
 ],
 "metadata": {
  "kernelspec": {
   "display_name": "Python 2",
   "language": "python",
   "name": "python2"
  },
  "language_info": {
   "codemirror_mode": {
    "name": "ipython",
    "version": 2
   },
   "file_extension": ".py",
   "mimetype": "text/x-python",
   "name": "python",
   "nbconvert_exporter": "python",
   "pygments_lexer": "ipython2",
   "version": "2.7.14"
  }
 },
 "nbformat": 4,
 "nbformat_minor": 2
}
