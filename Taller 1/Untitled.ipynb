{
 "cells": [
  {
   "cell_type": "markdown",
   "metadata": {},
   "source": [
    "# Volumenes finitos\n",
    "\n",
    "+ Profundizar en técnicas de integracion temporal\n",
    "    + Estabilidad absoluta\n",
    "    + Implementación de técnicas multipunto \n",
    "+ Iniciar el método de volúmenes finitos \n",
    "    + Técnicas de discretizacion espacial\n",
    "    + El segundo taller incluira la solución de Burgers 2D\n",
    "    \n",
    "$$\\frac{\\partial u}{\\partial t} + u\\frac{\\partial u}{\\partial x} + v\\frac{\\partial u}{\\partial y} = \\nabla \\cdot \\left[\\Gamma_{1}\\frac{\\partial u}{\\partial x}\\hat{x} +\\Gamma_{2}\\frac{\\partial u}{\\partial y}\\hat{y}\\right]+f_{x}$$\n",
    "\n",
    "$$\\frac{\\partial v}{\\partial t} + u\\frac{\\partial u}{\\partial x} + v\\frac{\\partial v}{\\partial y} = \\nabla \\cdot \\left[\\Gamma_{1}\\frac{\\partial v}{\\partial x}\\hat{x} +\\Gamma_{2}\\frac{\\partial v}{\\partial y}\\hat{y}\\right]+f_{y}$$\n",
    "\n",
    "donde $\\Gamma_{1,2}$ sera las constantes de difusión en x e y respectivamente. "
   ]
  },
  {
   "cell_type": "code",
   "execution_count": null,
   "metadata": {},
   "outputs": [],
   "source": []
  },
  {
   "cell_type": "code",
   "execution_count": null,
   "metadata": {},
   "outputs": [],
   "source": []
  },
  {
   "cell_type": "markdown",
   "metadata": {},
   "source": [
    "Ahora lo que se quiere es resolver el sistema con métodos multipunto de la siguiente manera\n",
    "\n",
    "1. Adam Bhasford de segundo orden (No es auto iniciable, faltan condiciones iniciales)\n",
    "2. Cranck Nicholson de segundo orden (Problema por la no linealidad\n",
    "\n",
    "Para resolver estos esquemas el 1 predictor y 2 es un corrector cada uno una sola vez. Para iniciar la propuesta se hace un Cranck Nicholson con varias iteraciones en el primer paso de tiempo hasta que se tenga la seguridad de que converga la solución .\n",
    "\n",
    "Ahora consideramos que las constantes de difusión son constantes en el espacio y en el tiempo $\\Gamma_{1,2} = \\Gamma = cte$\n",
    "\n",
    "Entonces nos reducimos a la ecuación clásica de difusión \n",
    "\n",
    "$$\\frac{\\partial u}{\\partial t} + u\\frac{\\partial u}{\\partial x} + v\\frac{\\partial u}{\\partial y} = \\Gamma \\left[\\frac{\\partial^{2} u}{\\partial x^{2}}\\hat{x} +\\frac{\\partial^{2} u}{\\partial y^{2}}\\hat{y}\\right]+f_{x}$$\n",
    "\n",
    "$$\\frac{\\partial v}{\\partial t} + u\\frac{\\partial u}{\\partial x} + v\\frac{\\partial v}{\\partial y} = \\Gamma \\left[\\frac{\\partial^{2} v}{\\partial x^{2}}\\hat{x} +\\frac{\\partial^{2} v}{\\partial y^{2}}\\hat{y}\\right]+f_{y}$$\n",
    "\n",
    "\n",
    "Se plantea el pseudo-algoritmo\n",
    "\n",
    "1. se define el dominio , condiciones iniciales y condiciones de frontera de las variables a solucionar\n",
    "\n",
    "2. Ahora se deja sin dimensión las ecuaciones para poder manejar más facil las ecuaciones\n",
    "\n",
    "$$\\frac{\\partial u}{\\partial t} + u\\frac{\\partial u}{\\partial x} + v\\frac{\\partial u}{\\partial y} = Da \\left[\\frac{\\partial^{2} u}{\\partial x^{2}}\\hat{x} +\\frac{\\partial^{2} u}{\\partial y^{2}}\\hat{y}\\right]+f_{x}$$\n",
    "\n",
    "$$\\frac{\\partial v}{\\partial t} + u\\frac{\\partial u}{\\partial x} + v\\frac{\\partial v}{\\partial y} = Da \\left[\\frac{\\partial^{2} v}{\\partial x^{2}}\\hat{x} +\\frac{\\partial^{2} v}{\\partial y^{2}}\\hat{y}\\right]+f_{y}$$\n",
    "\n",
    "3. Arrancamos con un Cranck Nicholson iterativo (es decir iterar varias veces hasta encontrar una velocidad \"verdadera\")\n",
    "\n",
    "$\\delta_{x}$ = aplicacion de las diferencias finitas en $x$ de orden 1\n",
    "\n",
    "$$\\frac{u_{i}^{n+1}-u_{i}^{n}}{\\Delta t} = \\frac{1}{2}\\left[\\Gamma\\delta_{x}^{2}u_{i} + \\Gamma \\delta_{y}^{2}u_{i} - u_{i}^{n}\\delta_{x}u_{i} - v_{i}^{n}\\delta_{y}u_{i}\\right]^{n+1}+\\frac{1}{2}\\left[\\Gamma\\delta_{x}^{2}u_{i} + \\Gamma \\delta_{y}^{2}u_{i} - u_{i}^{n}\\delta_{x}u_{i} - v_{i}^{n}\\delta_{y}u_{i}\\right]^{n}$$\n",
    "\n",
    "$$\\frac{u_{i}^{n+1}-u_{i}^{n}}{\\Delta t} = \\frac{1}{2}\\left[\\Gamma\\delta_{x}^{2}u_{i} + \\Gamma \\delta_{y}^{2}u_{i} - u_{i}^{n}\\delta_{x}u_{i} - v_{i}^{n}\\delta_{y}u_{i}\\right]^{n+1}+\\frac{1}{2}\\left[\\Gamma\\delta_{x}^{2}u_{i} + \\Gamma \\delta_{y}^{2}u_{i} - u_{i}^{n}\\delta_{x}u_{i} - v_{i}^{n}\\delta_{y}u_{i}\\right]^{n}$$\n",
    "\n",
    "ahora se organizan los términos para poder tener el esquema y poder programar más facilmente pero tenemos que expandir los terminos de las diferencias finitas asociados a $\\delta$\n",
    "\n"
   ]
  },
  {
   "cell_type": "code",
   "execution_count": null,
   "metadata": {},
   "outputs": [],
   "source": []
  },
  {
   "cell_type": "markdown",
   "metadata": {},
   "source": [
    "En este caso hacemos la formulación de diferencia finita centradas\n",
    "\n",
    "\n"
   ]
  },
  {
   "cell_type": "code",
   "execution_count": 1,
   "metadata": {},
   "outputs": [],
   "source": [
    "import numpy as np\n",
    "import matplotlib.pyplot as plt\n",
    "% matplotlib inline"
   ]
  },
  {
   "cell_type": "code",
   "execution_count": null,
   "metadata": {},
   "outputs": [],
   "source": [
    "d=3.\n",
    "a=1.\n",
    "\n",
    "x=np.linspace(0,a,1000)\n",
    "\n",
    "\n",
    "def fun(x,n):\n",
    "    e=0\n",
    "    for i in range(0,n):\n",
    "        e+=np.sin((2*n+1)*np.pi*x/a)/ (2*n+1)\n",
    "    return 2.*d*e/np.pi\n",
    "    "
   ]
  },
  {
   "cell_type": "code",
   "execution_count": null,
   "metadata": {},
   "outputs": [],
   "source": [
    "for i in range(1,5000):\n",
    "    plt.plot(x,fun(x,i))"
   ]
  },
  {
   "cell_type": "code",
   "execution_count": null,
   "metadata": {},
   "outputs": [],
   "source": [
    "e=0;n=3\n",
    "for i in range(0,n):\n",
    "    e+=np.sin((2*n+1)*np.pi*x/a)/(2*n+1)\n",
    "    print np.shape(e)"
   ]
  },
  {
   "cell_type": "code",
   "execution_count": null,
   "metadata": {},
   "outputs": [],
   "source": [
    "e"
   ]
  },
  {
   "cell_type": "code",
   "execution_count": null,
   "metadata": {},
   "outputs": [],
   "source": [
    "e[1]"
   ]
  },
  {
   "cell_type": "code",
   "execution_count": null,
   "metadata": {},
   "outputs": [],
   "source": []
  }
 ],
 "metadata": {
  "kernelspec": {
   "display_name": "Python 2",
   "language": "python",
   "name": "python2"
  },
  "language_info": {
   "codemirror_mode": {
    "name": "ipython",
    "version": 2
   },
   "file_extension": ".py",
   "mimetype": "text/x-python",
   "name": "python",
   "nbconvert_exporter": "python",
   "pygments_lexer": "ipython2",
   "version": "2.7.14"
  }
 },
 "nbformat": 4,
 "nbformat_minor": 2
}
